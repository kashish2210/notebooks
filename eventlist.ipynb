{
 "cells": [
  {
   "cell_type": "code",
   "execution_count": 1,
   "id": "b6c5c72b-68d5-4964-8958-7fe266ab6cbf",
   "metadata": {},
   "outputs": [
    {
     "name": "stderr",
     "output_type": "stream",
     "text": [
      "\u001b[32m\u001b[1m   Resolving\u001b[22m\u001b[39m package versions...\n",
      "\u001b[32m\u001b[1m  No Changes\u001b[22m\u001b[39m to `C:\\Users\\asus4\\.julia\\environments\\v1.11\\Project.toml`\n",
      "\u001b[32m\u001b[1m  No Changes\u001b[22m\u001b[39m to `C:\\Users\\asus4\\.julia\\environments\\v1.11\\Manifest.toml`\n",
      "\u001b[32m\u001b[1m   Resolving\u001b[22m\u001b[39m package versions...\n",
      "\u001b[32m\u001b[1m  No Changes\u001b[22m\u001b[39m to `C:\\Users\\asus4\\.julia\\environments\\v1.11\\Project.toml`\n",
      "\u001b[32m\u001b[1m  No Changes\u001b[22m\u001b[39m to `C:\\Users\\asus4\\.julia\\environments\\v1.11\\Manifest.toml`\n",
      "\u001b[32m\u001b[1m   Resolving\u001b[22m\u001b[39m package versions...\n",
      "\u001b[32m\u001b[1m  No Changes\u001b[22m\u001b[39m to `C:\\Users\\asus4\\.julia\\environments\\v1.11\\Project.toml`\n",
      "\u001b[32m\u001b[1m  No Changes\u001b[22m\u001b[39m to `C:\\Users\\asus4\\.julia\\environments\\v1.11\\Manifest.toml`\n",
      "\u001b[32m\u001b[1m   Resolving\u001b[22m\u001b[39m package versions...\n",
      "\u001b[32m\u001b[1m  No Changes\u001b[22m\u001b[39m to `C:\\Users\\asus4\\.julia\\environments\\v1.11\\Project.toml`\n",
      "\u001b[32m\u001b[1m  No Changes\u001b[22m\u001b[39m to `C:\\Users\\asus4\\.julia\\environments\\v1.11\\Manifest.toml`\n",
      "\u001b[32m\u001b[1m   Resolving\u001b[22m\u001b[39m package versions...\n",
      "\u001b[32m\u001b[1m  No Changes\u001b[22m\u001b[39m to `C:\\Users\\asus4\\.julia\\environments\\v1.11\\Project.toml`\n",
      "\u001b[32m\u001b[1m  No Changes\u001b[22m\u001b[39m to `C:\\Users\\asus4\\.julia\\environments\\v1.11\\Manifest.toml`\n"
     ]
    }
   ],
   "source": [
    "using Pkg\n",
    "Pkg.add(\"HDF5\")\n",
    "Pkg.add(\"FITSIO\")\n",
    "Pkg.add(\"GZip\")\n",
    "Pkg.add(\"Plots\")\n",
    "Pkg.add(\"Statistics\")"
   ]
  },
  {
   "cell_type": "code",
   "execution_count": 3,
   "id": "11107403-4081-408a-9ffd-d35950426670",
   "metadata": {},
   "outputs": [
    {
     "name": "stderr",
     "output_type": "stream",
     "text": [
      "\u001b[32m\u001b[1m   Resolving\u001b[22m\u001b[39m package versions...\n",
      "\u001b[32m\u001b[1m  No Changes\u001b[22m\u001b[39m to `C:\\Users\\asus4\\.julia\\environments\\v1.11\\Project.toml`\n",
      "\u001b[32m\u001b[1m  No Changes\u001b[22m\u001b[39m to `C:\\Users\\asus4\\.julia\\environments\\v1.11\\Manifest.toml`\n"
     ]
    }
   ],
   "source": [
    "using Pkg\n",
    "Pkg.add(\"Downloads\")"
   ]
  },
  {
   "cell_type": "code",
   "execution_count": 4,
   "id": "8cae44da-5fd4-4983-8778-157b2c33f355",
   "metadata": {},
   "outputs": [
    {
     "name": "stdout",
     "output_type": "stream",
     "text": [
      "Downloaded to: kplr011446443.fits\n"
     ]
    }
   ],
   "source": [
    "using Downloads\n",
    "\n",
    "url = \"https://archive.stsci.edu/pub/kepler/lightcurves/0114/011446443/kplr011446443-2009131110544_slc.fits\"\n",
    "download_path = \"kplr011446443.fits\"\n",
    "Downloads.download(url, download_path)\n",
    "println(\"Downloaded to: $download_path\")"
   ]
  },
  {
   "cell_type": "code",
   "execution_count": 22,
   "id": "3e0fc4be-5ac8-4afd-93e9-95552946fd48",
   "metadata": {},
   "outputs": [
    {
     "data": {
      "text/plain": [
       "readevents (generic function with 1 method)"
      ]
     },
     "execution_count": 22,
     "metadata": {},
     "output_type": "execute_result"
    }
   ],
   "source": [
    "using FITSIO\n",
    "struct Meta\n",
    "    headers::Vector{Dict{String,Any}}\n",
    "end\n",
    "struct EventList{T}\n",
    "    filename::String\n",
    "    times::Vector{T}\n",
    "    energies::Vector{T}\n",
    "    metadata::Meta\n",
    "end\n",
    "function readevents(path; T=Float64)\n",
    "    headers = Dict{String,Any}[]\n",
    "    times = T[]\n",
    "    energies = T[]\n",
    "    \n",
    "    FITS(path, \"r\") do f\n",
    "        for i in 1:length(f)  # Iterate over HDUs\n",
    "            hdu = f[i]\n",
    "            \n",
    "            # Extract header information as a dictionary\n",
    "            header_dict = Dict{String,Any}()\n",
    "            for key in keys(read_header(hdu))\n",
    "                header_dict[string(key)] = read_header(hdu)[key]\n",
    "            end\n",
    "            push!(headers, header_dict)\n",
    "            \n",
    "            # Check if the HDU is a table\n",
    "            if isa(hdu, TableHDU)\n",
    "                # Get column names using the correct FITSIO method\n",
    "                colnames = FITSIO.colnames(hdu)\n",
    "                \n",
    "                if \"TIME\" in colnames\n",
    "                    times = convert(Vector{T}, read(hdu, \"TIME\"))\n",
    "                end\n",
    "                if \"ENERGY\" in colnames\n",
    "                    energies = convert(Vector{T}, read(hdu, \"ENERGY\"))\n",
    "                end\n",
    "            end\n",
    "        end\n",
    "    end\n",
    "    \n",
    "    metadata = Meta(headers)\n",
    "    return EventList{T}(path, times, energies, metadata)\n",
    "end\n"
   ]
  },
  {
   "cell_type": "code",
   "execution_count": 24,
   "id": "4e75f57b-bb2d-4f50-a68a-e22edbfc367a",
   "metadata": {},
   "outputs": [
    {
     "name": "stdout",
     "output_type": "stream",
     "text": [
      "Filename: kplr011446443.fits\n",
      "Number of HDUs: 3\n",
      "Number of time values: 14280\n",
      "Number of energy values: 0\n",
      "Data Type T: Float32\n"
     ]
    }
   ],
   "source": [
    "filename = \"kplr011446443.fits\"\n",
    "event_data = readevents(filename, T=Float32)\n",
    "println(\"Filename: \", event_data.filename)\n",
    "println(\"Number of HDUs: \", length(event_data.metadata.headers))\n",
    "println(\"Number of time values: \", length(event_data.times))\n",
    "println(\"Number of energy values: \", length(event_data.energies))\n",
    "println(\"Data Type T: \", eltype(event_data.times))"
   ]
  },
  {
   "cell_type": "code",
   "execution_count": 18,
   "id": "5378279c-f722-42d0-9d2b-80963653a382",
   "metadata": {},
   "outputs": [
    {
     "name": "stdout",
     "output_type": "stream",
     "text": [
      "\u001b[0m\u001b[1mTest Summary:   | \u001b[22m\u001b[32m\u001b[1mPass  \u001b[22m\u001b[39m\u001b[36m\u001b[1mTotal  \u001b[22m\u001b[39m\u001b[0m\u001b[1mTime\u001b[22m\n",
      "EventList Tests | \u001b[32m  21  \u001b[39m\u001b[36m   21  \u001b[39m\u001b[0m0.1s\n"
     ]
    },
    {
     "data": {
      "text/plain": [
       "Test.DefaultTestSet(\"EventList Tests\", Any[Test.DefaultTestSet(\"Sample FITS file creation\", Any[], 6, false, false, true, 1.742618368561e9, 1.742618368588e9, false, \"In[18]\"), Test.DefaultTestSet(\"Different data types\", Any[], 4, false, false, true, 1.742618368588e9, 1.742618368609e9, false, \"In[18]\"), Test.DefaultTestSet(\"Missing columns\", Any[], 4, false, false, true, 1.742618368609e9, 1.742618368641e9, false, \"In[18]\"), Test.DefaultTestSet(\"Multiple HDUs\", Any[], 3, false, false, true, 1.742618368641e9, 1.742618368663e9, false, \"In[18]\"), Test.DefaultTestSet(\"Real test files\", Any[Test.DefaultTestSet(\"monol_testA.evt\", Any[], 2, false, false, true, 1.742618368664e9, 1.742618368664e9, false, \"In[18]\")], 0, false, false, true, 1.742618368664e9, 1.742618368664e9, false, \"In[18]\"), Test.DefaultTestSet(\"Error handling\", Any[], 2, false, false, true, 1.742618368664e9, 1.742618368679e9, false, \"In[18]\")], 0, false, false, true, 1.742618368561e9, 1.742618368679e9, false, \"In[18]\")"
      ]
     },
     "execution_count": 18,
     "metadata": {},
     "output_type": "execute_result"
    }
   ],
   "source": [
    "using FITSIO\n",
    "using Test\n",
    "\n",
    "@testset \"EventList Tests\" begin\n",
    "    # Test 1: Create a sample FITS file for testing\n",
    "    @testset \"Sample FITS file creation\" begin\n",
    "        test_dir = mktempdir()\n",
    "        sample_file = joinpath(test_dir, \"sample.fits\")\n",
    "        f = FITS(sample_file, \"w\")\n",
    "        write(f, Int[])  # Empty primary array       \n",
    "        # Create a binary table HDU with TIME and ENERGY columns\n",
    "        times = Float64[1.0, 2.0, 3.0, 4.0, 5.0]\n",
    "        energies = Float64[10.0, 20.0, 15.0, 25.0, 30.0]       \n",
    "        # Add a binary table extension\n",
    "        table = Dict{String, Array}()\n",
    "        table[\"TIME\"] = times\n",
    "        table[\"ENERGY\"] = energies\n",
    "        write(f, table)\n",
    "        close(f)\n",
    "        \n",
    "        @test isfile(sample_file)\n",
    "        \n",
    "        # Test reading the sample file\n",
    "        data = readevents(sample_file)\n",
    "        @test data.filename == sample_file\n",
    "        @test length(data.times) == 5\n",
    "        @test length(data.energies) == 5\n",
    "        @test eltype(data.times) == Float64\n",
    "        @test eltype(data.energies) == Float64\n",
    "    end\n",
    "    \n",
    "    # Test 2: Test with different data types\n",
    "    @testset \"Different data types\" begin\n",
    "        test_dir = mktempdir()\n",
    "        sample_file = joinpath(test_dir, \"sample_float32.fits\")\n",
    "        f = FITS(sample_file, \"w\")\n",
    "        write(f, Int[]) \n",
    "        # Create data\n",
    "        times = Float64[1.0, 2.0, 3.0]\n",
    "        energies = Float64[10.0, 20.0, 30.0]\n",
    "        table = Dict{String, Array}()\n",
    "        table[\"TIME\"] = times\n",
    "        table[\"ENERGY\"] = energies\n",
    "        write(f, table)\n",
    "        close(f)\n",
    "        # Test with Float32\n",
    "        data_f32 = readevents(sample_file, T=Float32)\n",
    "        @test eltype(data_f32.times) == Float32\n",
    "        @test eltype(data_f32.energies) == Float32\n",
    "        # Test with Int64\n",
    "        data_i64 = readevents(sample_file, T=Int64)\n",
    "        @test eltype(data_i64.times) == Int64\n",
    "        @test eltype(data_i64.energies) == Int64\n",
    "    end\n",
    "    \n",
    "    # Test 3: Test with missing columns\n",
    "    @testset \"Missing columns\" begin\n",
    "        test_dir = mktempdir()\n",
    "        sample_file = joinpath(test_dir, \"sample_no_energy.fits\")   \n",
    "        # Create a sample FITS file with only TIME column\n",
    "        f = FITS(sample_file, \"w\")\n",
    "        write(f, Int[]) \n",
    "        times = Float64[1.0, 2.0, 3.0]\n",
    "        table = Dict{String, Array}()\n",
    "        table[\"TIME\"] = times\n",
    "        write(f, table)\n",
    "        close(f)\n",
    "        data = readevents(sample_file)\n",
    "        @test length(data.times) == 3\n",
    "        @test length(data.energies) == 0        \n",
    "        #create a file with only ENERGY column\n",
    "        sample_file2 = joinpath(test_dir, \"sample_no_time.fits\")\n",
    "        f = FITS(sample_file2, \"w\")\n",
    "        write(f, Int[])  # Empty primary array\n",
    "        energies = Float64[10.0, 20.0, 30.0]\n",
    "        table = Dict{String, Array}()\n",
    "        table[\"ENERGY\"] = energies\n",
    "        write(f, table)\n",
    "        close(f)\n",
    "        data2 = readevents(sample_file2)\n",
    "        @test length(data2.times) == 0  # No TIME column\n",
    "        @test length(data2.energies) == 3\n",
    "    end\n",
    "    \n",
    "    # Test 4: Test with multiple HDUs\n",
    "    @testset \"Multiple HDUs\" begin\n",
    "        test_dir = mktempdir()\n",
    "        sample_file = joinpath(test_dir, \"sample_multi_hdu.fits\")      \n",
    "        # Create a sample FITS file with multiple HDUs\n",
    "        f = FITS(sample_file, \"w\")\n",
    "        write(f, Int[]) \n",
    "        times1 = Float64[1.0, 2.0, 3.0]\n",
    "        energies1 = Float64[10.0, 20.0, 30.0]\n",
    "        table1 = Dict{String, Array}()\n",
    "        table1[\"TIME\"] = times1\n",
    "        table1[\"ENERGY\"] = energies1\n",
    "        write(f, table1)\n",
    "        # Second table HDU (with OTHER column)\n",
    "        other_data = Float64[100.0, 200.0, 300.0]\n",
    "        table2 = Dict{String, Array}()\n",
    "        table2[\"OTHER\"] = other_data\n",
    "        write(f, table2)\n",
    "        # Third table HDU (with TIME only)\n",
    "        times3 = Float64[4.0, 5.0, 6.0]\n",
    "        table3 = Dict{String, Array}()\n",
    "        table3[\"TIME\"] = times3\n",
    "        write(f, table3) \n",
    "        close(f)\n",
    "        data = readevents(sample_file)\n",
    "        @test length(data.metadata.headers) == 4  # Primary + 3 table HDUs\n",
    "        # Should read the first HDU with both TIME and ENERGY\n",
    "        @test length(data.times) == 3\n",
    "        @test length(data.energies) == 3\n",
    "    end\n",
    "    \n",
    "    # Test 5: Test with real test files if available\n",
    "    @testset \"Real test files\" begin\n",
    "        if isfile(\"monol_testA.evt\")\n",
    "            @testset \"monol_testA.evt\" begin\n",
    "                data = readevents(\"monol_testA.evt\")\n",
    "                @test data.filename == \"monol_testA.evt\"\n",
    "                @test length(data.metadata.headers) > 0\n",
    "            end\n",
    "        else\n",
    "            @info \"Test file 'monol_testA.evt' not found. Skipping this test.\"\n",
    "        end\n",
    "    end\n",
    "    \n",
    "    @testset \"Error handling\" begin\n",
    "        # Test with non-existent file - using a more generic approach\n",
    "        @test_throws Exception readevents(\"non_existent_file.fits\")\n",
    "        \n",
    "        # Test with invalid FITS file\n",
    "        invalid_file = tempname()\n",
    "        open(invalid_file, \"w\") do io\n",
    "            write(io, \"This is not a FITS file\")\n",
    "        end\n",
    "        @test_throws Exception readevents(invalid_file)\n",
    "    end\n",
    "end"
   ]
  }
 ],
 "metadata": {
  "kernelspec": {
   "display_name": "Julia 1.11.4",
   "language": "julia",
   "name": "julia-1.11"
  },
  "language_info": {
   "file_extension": ".jl",
   "mimetype": "application/julia",
   "name": "julia",
   "version": "1.11.4"
  }
 },
 "nbformat": 4,
 "nbformat_minor": 5
}
